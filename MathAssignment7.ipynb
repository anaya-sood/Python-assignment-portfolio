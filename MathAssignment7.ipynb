{
 "cells": [
  {
   "cell_type": "code",
   "execution_count": 2,
   "id": "68c95641-c5dd-4593-9118-c42cce6cedd7",
   "metadata": {},
   "outputs": [
    {
     "name": "stdout",
     "output_type": "stream",
     "text": [
      "{'Sample Mean': 82.382, 'Sample Standard Deviation': 10.193467189005581, 't_0 Value': 2.290087686017293, 'Critical t* Value': 2.2621571628540993, 'Reject Null Hypothesis': True}\n"
     ]
    }
   ],
   "source": [
    "import numpy as np\n",
    "from scipy.stats import t\n",
    "\n",
    "# Given test scores\n",
    "scores = np.array([92.64, 79.00, 84.79, 97.41, 93.68, 65.23, 84.50, 73.49, 73.97, 79.11])\n",
    "mu_0 = 75  # National average score\n",
    "\n",
    "# Step 1: Compute mean and standard deviation\n",
    "mean_score = np.mean(scores)\n",
    "std_dev = np.std(scores, ddof=1)  # Sample standard deviation (ddof=1 for sample)\n",
    "\n",
    "# Step 2: Compute t0\n",
    "n = len(scores)\n",
    "t_0 = (mean_score - mu_0) / (std_dev / np.sqrt(n))\n",
    "\n",
    "# Step 3: Find critical t* for 95% confidence level (two-tailed test)\n",
    "t_star = t.ppf(0.975, df=n-1)\n",
    "\n",
    "# Step 4: Check if t0 is in the interval [-t*, t*]\n",
    "reject_null = abs(t_0) > t_star\n",
    "\n",
    "# Display results\n",
    "results = {\n",
    "    \"Sample Mean\": mean_score,\n",
    "    \"Sample Standard Deviation\": std_dev,\n",
    "    \"t_0 Value\": t_0,\n",
    "    \"Critical t* Value\": t_star,\n",
    "    \"Reject Null Hypothesis\": reject_null\n",
    "}\n",
    "\n",
    "print(results)\n"
   ]
  },
  {
   "cell_type": "code",
   "execution_count": null,
   "id": "54b274a2-0a0f-4513-b6be-c817e25accf7",
   "metadata": {},
   "outputs": [],
   "source": []
  }
 ],
 "metadata": {
  "kernelspec": {
   "display_name": "Python 3 (ipykernel)",
   "language": "python",
   "name": "python3"
  },
  "language_info": {
   "codemirror_mode": {
    "name": "ipython",
    "version": 3
   },
   "file_extension": ".py",
   "mimetype": "text/x-python",
   "name": "python",
   "nbconvert_exporter": "python",
   "pygments_lexer": "ipython3",
   "version": "3.12.8"
  }
 },
 "nbformat": 4,
 "nbformat_minor": 5
}
